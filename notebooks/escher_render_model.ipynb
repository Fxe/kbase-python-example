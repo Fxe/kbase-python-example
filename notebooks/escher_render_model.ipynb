{
 "cells": [
  {
   "cell_type": "code",
   "execution_count": 1,
   "metadata": {},
   "outputs": [
    {
     "name": "stdout",
     "output_type": "stream",
     "text": [
      "cobrakbase 0.1.7\n"
     ]
    }
   ],
   "source": [
    "import escher\n",
    "import cobra\n",
    "import cobrakbase\n",
    "%run ../../../scripts/bios_utils.py\n",
    "%run ../../../scripts/escher_curation.py"
   ]
  },
  {
   "cell_type": "code",
   "execution_count": 2,
   "metadata": {},
   "outputs": [
    {
     "name": "stdout",
     "output_type": "stream",
     "text": [
      "load: /Users/fliu/workspace/jupyter/ModelSEEDDatabase/Biochemistry/reactions.tsv\n",
      "load: /Users/fliu/workspace/jupyter/ModelSEEDDatabase/Biochemistry/compounds.tsv\n",
      "load: /Users/fliu/workspace/jupyter/ModelSEEDDatabase/Biochemistry/Structures/Unique_ModelSEED_Structures.txt\n",
      "load: /Users/fliu/workspace/jupyter/ModelSEEDDatabase/Biochemistry/Aliases/Unique_ModelSEED_Compound_Aliases.txt\n",
      "load: /Users/fliu/workspace/jupyter/ModelSEEDDatabase/Biochemistry/Aliases/Unique_ModelSEED_Reaction_Aliases.txt\n",
      "load: /Users/fliu/workspace/jupyter/ModelSEEDDatabase/Biochemistry/Aliases/Unique_ModelSEED_Reaction_ECs.txt\n"
     ]
    }
   ],
   "source": [
    "modelseed_local = cobrakbase.modelseed.from_local('/Users/fliu/workspace/jupyter/ModelSEEDDatabase')"
   ]
  },
  {
   "cell_type": "code",
   "execution_count": 4,
   "metadata": {},
   "outputs": [],
   "source": [
    "ws = 'filipeliu:narrative_1504192868437'\n",
    "kbase = cobrakbase.KBaseAPI('L3NXWHHX25VLEL6OAWB3Z5URDSDKZIMP')"
   ]
  },
  {
   "cell_type": "code",
   "execution_count": 226,
   "metadata": {},
   "outputs": [
    {
     "data": {
      "text/plain": [
       "[[283,\n",
       "  'Lipst1_1_NO_GP_DraftFilter.gf.Carbon-D-Glucose.fix',\n",
       "  'KBaseFBA.FBAModel-11.0',\n",
       "  '2019-06-17T07:14:22+0000',\n",
       "  1,\n",
       "  'filipeliu',\n",
       "  40036,\n",
       "  'filipeliu:narrative_1548978605026',\n",
       "  '8213bef0144e0d15dab2af333a4ff25e',\n",
       "  1743918,\n",
       "  {'Number gapgens': '0',\n",
       "   'Type': 'MultipleGenomes',\n",
       "   'Number gapfills': '1',\n",
       "   'Source ID': 'fungi_merge_model_empty',\n",
       "   'Number biomasses': '1',\n",
       "   'Number compartments': '9',\n",
       "   'Genome': '39957/29/5',\n",
       "   'Source': 'sbml',\n",
       "   'Number compounds': '2486',\n",
       "   'Number reactions': '632',\n",
       "   'Name': 'Lipomyces starkeyi'}]]"
      ]
     },
     "execution_count": 226,
     "metadata": {},
     "output_type": "execute_result"
    }
   ],
   "source": [
    "kbase.save_object(id='Lipst1_1_NO_GP_DraftFilter.gf.Carbon-D-Glucose.fix', ws=ws, data=kmodel, otype='KBaseFBA.FBAModel')"
   ]
  },
  {
   "cell_type": "code",
   "execution_count": 240,
   "metadata": {},
   "outputs": [],
   "source": [
    "ws = 'filipeliu:narrative_1548978605026'\n",
    "kmodel = kbase.get_object('Lipst1_1_NO_GP_DraftFilter.gf.Carbon-D-Glucose.fix', ws)\n",
    "kmedia = kbase.get_object('Carbon-D-Glucose', ws)\n",
    "#kgenome = \n",
    "kfba = kbase.get_object('Lipst1_1_NO_GP_DraftFilter.gf.fba', ws)\n",
    "fbamodel = cobrakbase.core.model.KBaseFBAModel(kmodel)"
   ]
  },
  {
   "cell_type": "code",
   "execution_count": 5,
   "metadata": {},
   "outputs": [],
   "source": [
    "#ecoli\n",
    "kmodel = kbase.get_object('GCF_000005845.2.mdl', ws)\n",
    "kmedia = kbase.get_object('Carbon-D-Glucose', ws)\n",
    "#kgenome = \n",
    "kfba = kbase.get_object('GCF_000005845.2.fba', ws)"
   ]
  },
  {
   "cell_type": "code",
   "execution_count": 174,
   "metadata": {},
   "outputs": [],
   "source": [
    "%run ../../../scripts/stoich_integration.py"
   ]
  },
  {
   "cell_type": "code",
   "execution_count": null,
   "metadata": {},
   "outputs": [],
   "source": []
  },
  {
   "cell_type": "code",
   "execution_count": 217,
   "metadata": {},
   "outputs": [
    {
     "data": {
      "text/plain": [
       "{('cpd00009_c0', 'c0'): 1,\n",
       " ('cpd00087_c0', 'c0'): -1,\n",
       " ('cpd00002_c0', 'c0'): -1,\n",
       " ('cpd00201_c0', 'c0'): 1,\n",
       " ('cpd00047_c0', 'c0'): -1,\n",
       " ('cpd00008_c0', 'c0'): 1}"
      ]
     },
     "execution_count": 217,
     "metadata": {},
     "output_type": "execute_result"
    }
   ],
   "source": [
    "def get_reaction_compartment(cmps):\n",
    "    if not cmps == None:\n",
    "        if len(cmps) == 1:\n",
    "            return cmps.pop()\n",
    "        elif 'e0' in cmps and len(cmps) == 2:\n",
    "            return 'e0'\n",
    "        elif 'r0' in cmps and len(cmps) == 2:\n",
    "            return 'r0'\n",
    "        elif 'c0' in cmps and len(cmps) == 2:\n",
    "            cmps.remove('c0')\n",
    "            return cmps.pop()\n",
    "        elif len(cmps) == 0:\n",
    "            print(reaction)\n",
    "        print(cmps)\n",
    "    else:\n",
    "        return None\n",
    "\n",
    "def get_compartments(r):\n",
    "    compartments = set()\n",
    "    for o in r.data['modelReactionReagents']:\n",
    "        cpd_id = o['modelcompound_ref'].split('/')[-1]\n",
    "        cpd = fbamodel.get_metabolite(cpd_id)\n",
    "        cpd_cmp = cpd.data['modelcompartment_ref'].split('/')[-1]\n",
    "        compartments.add(cpd_cmp)\n",
    "    return compartments\n",
    "\n",
    "def get_cstoichiometry(r):\n",
    "    cstoichiometry = {}\n",
    "    for o in r.data['modelReactionReagents']:\n",
    "        cpd_id = o['modelcompound_ref'].split('/')[-1]\n",
    "        cpd = fbamodel.get_metabolite(cpd_id)\n",
    "        cpd_cmp = cpd.data['modelcompartment_ref'].split('/')[-1]\n",
    "        coeff = o['coefficient']\n",
    "        cstoichiometry[(cpd.id, cpd_cmp)] = coeff\n",
    "    return cstoichiometry\n",
    "        \n",
    "get_cs(r)"
   ]
  },
  {
   "cell_type": "code",
   "execution_count": 228,
   "metadata": {},
   "outputs": [],
   "source": [
    "for i in range(len(kmodel['modelreactions'])):\n",
    "    r = kmodel['modelreactions'][i]\n",
    "    r['id'] = r['id'] + '_' + str(i)"
   ]
  },
  {
   "cell_type": "code",
   "execution_count": 229,
   "metadata": {},
   "outputs": [
    {
     "name": "stdout",
     "output_type": "stream",
     "text": [
      "clusters: 7\n"
     ]
    }
   ],
   "source": [
    "def cluster_reactions2(rxn_to_hash, all_hashes):\n",
    "\n",
    "    g = nx.Graph()\n",
    "    for h in all_hashes:\n",
    "        for h_val in all_hashes[h]:\n",
    "            #print(h, h_val, all_hashes[h][h_val])\n",
    "            for i in all_hashes[h][h_val]:\n",
    "                g.add_edge(str(h_val) + '@HASH', i)\n",
    "                    #print(prev, i)\n",
    "            #break\n",
    "\n",
    "    ccs = nx.algorithms.connected_components(g)\n",
    "    ccs = [cc for cc in ccs]\n",
    "    ccs = filter_hash(ccs)\n",
    "    print('clusters:', len(ccs))\n",
    "    \n",
    "    return ccs\n",
    "\n",
    "ccs = cluster_reactions2(rxn_to_hash, all_hashes)\n",
    "\n"
   ]
  },
  {
   "cell_type": "code",
   "execution_count": 236,
   "metadata": {},
   "outputs": [
    {
     "name": "stdout",
     "output_type": "stream",
     "text": [
      "\n",
      "rxn00832_c_369 {'cpd00001_c0': -1, 'cpd00114_c0': -1, 'cpd02884_c0': 1} (1000, 1000, '=')\n",
      "rxn00832_c_0 {'cpd00001_c0': -1, 'cpd00114_c0': -1, 'cpd02884_c0': 1} (1000, 1000, '=')\n",
      "\n",
      "rxn00611_c_390 {'cpd00003_c0': -1, 'cpd00080_c0': -1, 'cpd00004_c0': 1, 'cpd00067_c0': 1, 'cpd00095_c0': 1} (1000, 1000, '=')\n",
      "rxn00611_c_3 {'cpd00003_c0': -1, 'cpd00080_c0': -1, 'cpd00004_c0': 1, 'cpd00067_c0': 1, 'cpd00095_c0': 1} (1000, 1000, '=')\n",
      "\n",
      "rxn03975_c_488 {'cpd00006_c0': -1, 'cpd01270_c0': -1, 'cpd00005_c0': 1, 'cpd00050_c0': 1, 'cpd00067_c0': 2} (1000, 1000, '=')\n",
      "rxn03975_c_121 {'cpd00006_c0': -1, 'cpd01270_c0': -1, 'cpd00005_c0': 1, 'cpd00050_c0': 1, 'cpd00067_c0': 2} (1000, 1000, '=')\n",
      "\n",
      "rxn00086_c_276 {'cpd00006_c0': -1, 'cpd00042_c0': -2, 'cpd00005_c0': 1, 'cpd00067_c0': 1, 'cpd00111_c0': 1} (1000, 1000, '=')\n",
      "rxn00086_c_191 {'cpd00006_c0': -1, 'cpd00042_c0': -2, 'cpd00005_c0': 1, 'cpd00067_c0': 1, 'cpd00111_c0': 1} (1000, 1000, '=')\n",
      "\n",
      "rxn00086_m_192 {'cpd00006_m0': -1, 'cpd00042_m0': -2, 'cpd00005_m0': 1, 'cpd00067_m0': 1, 'cpd00111_m0': 1} (1000, 1000, '=')\n",
      "rxn00086_m_277 {'cpd00006_m0': -1, 'cpd00042_m0': -2, 'cpd00005_m0': 1, 'cpd00067_m0': 1, 'cpd00111_m0': 1} (1000, 1000, '=')\n",
      "\n",
      "rxn06108_m_471 {'cpd00003_m0': -1, 'cpd11665_m0': -1, 'cpd00004_m0': 1, 'cpd00067_m0': 1, 'cpd11669_m0': 1} (1000, 1000, '=')\n",
      "rxn06108_m_323 {'cpd00003_m0': -1, 'cpd11665_m0': -1, 'cpd00004_m0': 1, 'cpd00067_m0': 1, 'cpd11669_m0': 1} (1000, 1000, '=')\n",
      "\n",
      "rxn00225_c_400 {'cpd00002_c0': -1, 'cpd00029_c0': -1, 'cpd00008_c0': 1, 'cpd00196_c0': 1} (1000, 1000, '=')\n",
      "rxn00225_c0_537 {'cpd00002_c0': -1, 'cpd00196_c0': 1, 'cpd00029_c0': -1, 'cpd00008_c0': 1} (1000, 1000, '=')\n"
     ]
    }
   ],
   "source": [
    "for cc in ccs:\n",
    "    print()\n",
    "    for id in cc:\n",
    "        r = fbamodel.get_reaction(id)\n",
    "        r.data['direction'] = '='\n",
    "        r.data['maxforflux'] = 1000\n",
    "        r.data['maxrevflux'] = 1000\n",
    "        print(r.id, r.stoichiometry, r.get_bounds())"
   ]
  },
  {
   "cell_type": "code",
   "execution_count": 235,
   "metadata": {},
   "outputs": [
    {
     "data": {
      "text/plain": [
       "{'aliases': [],\n",
       " 'dblinks': {},\n",
       " 'direction': '<',\n",
       " 'edits': {},\n",
       " 'gapfill_data': {'gf.0': {'0': ['<', 1, []]}},\n",
       " 'id': 'rxn00225_c0_537',\n",
       " 'maxforflux': 1000000,\n",
       " 'maxrevflux': 1000000,\n",
       " 'modelReactionProteins': [],\n",
       " 'modelReactionReagents': [{'coefficient': -1,\n",
       "   'modelcompound_ref': '~/modelcompounds/id/cpd00002_c0'},\n",
       "  {'coefficient': 1, 'modelcompound_ref': '~/modelcompounds/id/cpd00196_c0'},\n",
       "  {'coefficient': -1, 'modelcompound_ref': '~/modelcompounds/id/cpd00029_c0'},\n",
       "  {'coefficient': 1, 'modelcompound_ref': '~/modelcompounds/id/cpd00008_c0'}],\n",
       " 'modelcompartment_ref': '~/modelcompartments/id/c0',\n",
       " 'name': 'ATP:acetate phosphotransferase_c0',\n",
       " 'numerical_attributes': {},\n",
       " 'probability': 0,\n",
       " 'protons': 0,\n",
       " 'reaction_ref': '~/template/reactions/id/rxn00225_c',\n",
       " 'string_attributes': {}}"
      ]
     },
     "execution_count": 235,
     "metadata": {},
     "output_type": "execute_result"
    }
   ],
   "source": []
  },
  {
   "cell_type": "code",
   "execution_count": 224,
   "metadata": {},
   "outputs": [],
   "source": [
    "for i in range(len(kmodel['modelreactions'])):\n",
    "    r = kmodel['modelreactions'][i]\n",
    "    r['id'] = rename[r['id']]"
   ]
  },
  {
   "cell_type": "code",
   "execution_count": 221,
   "metadata": {},
   "outputs": [],
   "source": [
    "delete = set()\n",
    "for cc in ccs:\n",
    "    cc.pop()\n",
    "    delete |= cc\n",
    "fbamodel.delete_reactions(delete, store=True)\n",
    "rename = {}\n",
    "for rxn in fbamodel.reactions:\n",
    "    seed_id = rxn.data['reaction_ref'].split('/')[-1].split('_')[0]\n",
    "    cmps = get_compartments(rxn)\n",
    "    cmp = None\n",
    "    cmp = get_reaction_compartment(cmps)\n",
    "    rename[rxn.id] = \"{}_{}\".format(seed_id, cmp)\n",
    "    "
   ]
  },
  {
   "cell_type": "code",
   "execution_count": 223,
   "metadata": {},
   "outputs": [
    {
     "data": {
      "text/plain": [
       "(632, 632)"
      ]
     },
     "execution_count": 223,
     "metadata": {},
     "output_type": "execute_result"
    }
   ],
   "source": []
  },
  {
   "cell_type": "code",
   "execution_count": null,
   "metadata": {},
   "outputs": [],
   "source": [
    "for r in fbamodel.reactions:"
   ]
  },
  {
   "cell_type": "code",
   "execution_count": 182,
   "metadata": {},
   "outputs": [],
   "source": [
    "h_func = hasher\n",
    "rxn_to_hash = {}\n",
    "all_hashes = {}\n",
    "for r in fbamodel.reactions:\n",
    "    cstoichiometry = get_cs(r)\n",
    "    hashes = h_func(cstoichiometry)\n",
    "    rxn_to_hash[r.id] = hashes\n",
    "    for h in hashes:\n",
    "        hash_val = hashes[h]\n",
    "        if not h in all_hashes:\n",
    "            all_hashes[h] = {}\n",
    "        if not hash_val in all_hashes[h]:\n",
    "            all_hashes[h][hash_val] = set()\n",
    "        all_hashes[h][hash_val].add(r.id)"
   ]
  },
  {
   "cell_type": "code",
   "execution_count": null,
   "metadata": {},
   "outputs": [],
   "source": []
  },
  {
   "cell_type": "code",
   "execution_count": 142,
   "metadata": {},
   "outputs": [
    {
     "data": {
      "text/plain": [
       "<cobrakbase.core.model.KBaseFBAModelReaction at 0x133f22b860>"
      ]
     },
     "execution_count": 142,
     "metadata": {},
     "output_type": "execute_result"
    }
   ],
   "source": [
    "fbamodel.get_reaction('rxn00086_c')"
   ]
  },
  {
   "cell_type": "code",
   "execution_count": null,
   "metadata": {},
   "outputs": [],
   "source": []
  },
  {
   "cell_type": "code",
   "execution_count": null,
   "metadata": {},
   "outputs": [],
   "source": []
  },
  {
   "cell_type": "code",
   "execution_count": null,
   "metadata": {},
   "outputs": [],
   "source": []
  },
  {
   "cell_type": "code",
   "execution_count": null,
   "metadata": {},
   "outputs": [],
   "source": []
  },
  {
   "cell_type": "code",
   "execution_count": 151,
   "metadata": {},
   "outputs": [
    {
     "name": "stdout",
     "output_type": "stream",
     "text": [
      "639\n"
     ]
    }
   ],
   "source": [
    "fbamodel = cobrakbase.core.model.KBaseFBAModel(kmodel)\n",
    "ids = set()\n",
    "print(len(fbamodel.reactions))\n",
    "for r in fbamodel.reactions:\n",
    "    ids.add(r.id)\n",
    "    if 'rxn00086_c' in r.id:\n",
    "        print(r.id)"
   ]
  },
  {
   "cell_type": "code",
   "execution_count": null,
   "metadata": {},
   "outputs": [],
   "source": []
  },
  {
   "cell_type": "code",
   "execution_count": 241,
   "metadata": {},
   "outputs": [
    {
     "data": {
      "text/html": [
       "\n",
       "        <table>\n",
       "            <tr>\n",
       "                <td><strong>Name</strong></td>\n",
       "                <td>kbase</td>\n",
       "            </tr><tr>\n",
       "                <td><strong>Memory address</strong></td>\n",
       "                <td>0x0133fcfa978</td>\n",
       "            </tr><tr>\n",
       "                <td><strong>Number of metabolites</strong></td>\n",
       "                <td>935</td>\n",
       "            </tr><tr>\n",
       "                <td><strong>Number of reactions</strong></td>\n",
       "                <td>833</td>\n",
       "            </tr><tr>\n",
       "                <td><strong>Number of groups</strong></td>\n",
       "                <td>0</td>\n",
       "            </tr><tr>\n",
       "                <td><strong>Objective expression</strong></td>\n",
       "                <td>1.0*bio1_biomass - 1.0*bio1_biomass_reverse_6e711</td>\n",
       "            </tr><tr>\n",
       "                <td><strong>Compartments</strong></td>\n",
       "                <td>c, m, x, e, v, r</td>\n",
       "            </tr>\n",
       "          </table>"
      ],
      "text/plain": [
       "<Model kbase at 0x133fcfa978>"
      ]
     },
     "execution_count": 241,
     "metadata": {},
     "output_type": "execute_result"
    }
   ],
   "source": [
    "media_const = cobrakbase.convert_media(kmedia)\n",
    "cobra_model = cobrakbase.convert_kmodel(kmodel, media_const)\n",
    "model_json = cobra.io.to_json(cobra_model)\n",
    "fbamodel = cobrakbase.core.model.KBaseFBAModel(kmodel)\n",
    "cobra_model"
   ]
  },
  {
   "cell_type": "code",
   "execution_count": null,
   "metadata": {},
   "outputs": [],
   "source": []
  },
  {
   "cell_type": "code",
   "execution_count": 242,
   "metadata": {},
   "outputs": [
    {
     "data": {
      "text/plain": [
       "<cobrakbase.core.model.KBaseFBASolution at 0x13401d5f60>"
      ]
     },
     "execution_count": 242,
     "metadata": {},
     "output_type": "execute_result"
    }
   ],
   "source": [
    "fba = cobrakbase.core.model.KBaseFBASolution(kfba)\n",
    "fba"
   ]
  },
  {
   "cell_type": "code",
   "execution_count": 243,
   "metadata": {},
   "outputs": [],
   "source": [
    "flux_data = {'rxn01643_c0' : -100}\n",
    "for rxn_var in fba.data['FBAReactionVariables']:\n",
    "    flux = rxn_var['value']\n",
    "    rxn_id = rxn_var['modelreaction_ref'].split('/')[-1]\n",
    "    flux_data[rxn_id] = flux\n",
    "for rxn_var in fba.data['FBABiomassVariables']:\n",
    "    flux = rxn_var['value']\n",
    "    rxn_id = rxn_var['biomass_ref'].split('/')[-1]\n",
    "    flux_data[rxn_id + '_biomass'] = flux\n",
    "for rxn_var in fba.data['FBACompoundVariables']:\n",
    "    flux = rxn_var['value']\n",
    "    cpd_id = rxn_var['modelcompound_ref'].split('/')[-1]\n",
    "    flux_data['EX_' + cpd_id] = -1 * flux"
   ]
  },
  {
   "cell_type": "code",
   "execution_count": 244,
   "metadata": {},
   "outputs": [],
   "source": [
    "map_list = list(filter(lambda d : d['organism'] == 'BIOS', escher.list_cached_maps()))"
   ]
  },
  {
   "cell_type": "code",
   "execution_count": 245,
   "metadata": {},
   "outputs": [
    {
     "data": {
      "text/plain": [
       "[{'organism': 'BIOS', 'map_name': 'bios7.proteins'},\n",
       " {'organism': 'BIOS', 'map_name': 'bios7.Quinones'},\n",
       " {'organism': 'BIOS', 'map_name': 'bios7.fa'},\n",
       " {'organism': 'BIOS', 'map_name': 'bios7.AA'},\n",
       " {'organism': 'BIOS', 'map_name': 'bios7.LipidIV'},\n",
       " {'organism': 'BIOS', 'map_name': 'bios7.thf'},\n",
       " {'organism': 'BIOS', 'map_name': 'bios7.Central'},\n",
       " {'organism': 'BIOS', 'map_name': 'bios7.mycolate'},\n",
       " {'organism': 'BIOS', 'map_name': 'bios7.Riboflavin'},\n",
       " {'organism': 'BIOS', 'map_name': 'bios7.sugars'},\n",
       " {'organism': 'BIOS', 'map_name': 'bios7.f430'},\n",
       " {'organism': 'BIOS', 'map_name': 'bios7.Thiamine'},\n",
       " {'organism': 'BIOS', 'map_name': 'bios7.Nucleotides'},\n",
       " {'organism': 'BIOS', 'map_name': 'bios7.peptidoglycan'}]"
      ]
     },
     "execution_count": 245,
     "metadata": {},
     "output_type": "execute_result"
    }
   ],
   "source": [
    "map_list"
   ]
  },
  {
   "cell_type": "code",
   "execution_count": 10,
   "metadata": {},
   "outputs": [],
   "source": [
    "ESCHER_HOME = '/Users/fliu/workspace/jupyter/data/escher'\n",
    "map_id = 'bios7.Central'\n",
    "escher_model_data = read_json(ESCHER_HOME + '/models/' + 'BIOS' + '/' + 'bios7.json')\n",
    "escher_map_data = read_json(ESCHER_HOME + '/maps/' + 'BIOS' + '/' + map_id + '.json')\n",
    "escher_map = EscherMap(escher_map_data)\n",
    "escher_model = EscherModel(escher_model_data)"
   ]
  },
  {
   "cell_type": "code",
   "execution_count": 255,
   "metadata": {},
   "outputs": [
    {
     "name": "stdout",
     "output_type": "stream",
     "text": [
      "{'c'}\n"
     ]
    },
    {
     "data": {
      "text/html": [
       "\n",
       "        <table>\n",
       "            <tr>\n",
       "                <td><strong>Reaction identifier</strong></td><td>rxn01740_c0</td>\n",
       "            </tr><tr>\n",
       "                <td><strong>Name</strong></td><td>Shikimate:NADP+ 3-oxidoreductase</td>\n",
       "            </tr><tr>\n",
       "                <td><strong>Memory address</strong></td>\n",
       "                <td>0x013409b7e10</td>\n",
       "            </tr><tr>\n",
       "                <td><strong>Stoichiometry</strong></td>\n",
       "                <td>\n",
       "                    <p style='text-align:right'>cpd00006_c0 + cpd00383_c0 <=> cpd00005_c0 + cpd00067_c0 + cpd01716_c0</p>\n",
       "                    <p style='text-align:right'>NADP + Shikimate <=> NADPH + H+ + 3-Dehydroshikimate</p>\n",
       "                </td>\n",
       "            </tr><tr>\n",
       "                <td><strong>GPR</strong></td><td>(gene_1556)</td>\n",
       "            </tr><tr>\n",
       "                <td><strong>Lower bound</strong></td><td>-1000</td>\n",
       "            </tr><tr>\n",
       "                <td><strong>Upper bound</strong></td><td>1000</td>\n",
       "            </tr>\n",
       "        </table>\n",
       "        "
      ],
      "text/plain": [
       "<Reaction rxn01740_c0 at 0x13409b7e10>"
      ]
     },
     "execution_count": 255,
     "metadata": {},
     "output_type": "execute_result"
    }
   ],
   "source": [
    "for reaction in cobra_model.reactions:\n",
    "    print(reaction.compartments)\n",
    "    break\n",
    "reaction"
   ]
  },
  {
   "cell_type": "code",
   "execution_count": 252,
   "metadata": {},
   "outputs": [],
   "source": [
    "for modelreaction in fbamodel.reactions:\n",
    "    modelreaction.\n",
    "    break"
   ]
  },
  {
   "cell_type": "code",
   "execution_count": 246,
   "metadata": {},
   "outputs": [],
   "source": [
    "def fetch_metabolites_and_reactions(fbamodel, compartment_match = 'c0', compartment_match2 = 'c'):\n",
    "    rxn_map_to_model = {}\n",
    "    compartment_match2 = 'c'\n",
    "\n",
    "    for modelreaction in fbamodel.reactions:\n",
    "        reaction_ref = modelreaction.data['reaction_ref'].split('/')[-1]\n",
    "        seed_id, compartment = reaction_ref.split('_')\n",
    "        if compartment == compartment_match2:\n",
    "            rxn_map_to_model[seed_id] = modelreaction.id\n",
    "        #print(modelreaction.id, seed_id, compartment)\n",
    "\n",
    "    compartment_match = 'c0'\n",
    "    cpd_map_to_model = {}\n",
    "    for metabolite in fbamodel.metabolites:\n",
    "        seed_id = metabolite.data['compound_ref'].split('/')[-1]\n",
    "        compartment = metabolite.data['modelcompartment_ref'].split('/')[-1]\n",
    "        if compartment == compartment_match:\n",
    "            cpd_map_to_model[seed_id] = metabolite.id\n",
    "            \n",
    "    return cpd_map_to_model, rxn_map_to_model\n",
    "\n",
    "def build_escher_map(escher_map, model_json):\n",
    "    map_json_str = json.dumps(escher_map.escher_map)\n",
    "    builder = escher.Builder(map_json=map_json_str, model_json=model_json, reaction_data=flux_data)\n",
    "    builder.set_highlight_missing(True)\n",
    "    builder.set_enable_tooltips(True)\n",
    "    builder.set_show_gene_reaction_rules(True)\n",
    "    builder.set_and_method_in_gene_reaction_rule(True)\n",
    "    return builder"
   ]
  },
  {
   "cell_type": "code",
   "execution_count": 247,
   "metadata": {},
   "outputs": [
    {
     "name": "stdout",
     "output_type": "stream",
     "text": [
      "513 1267\n"
     ]
    }
   ],
   "source": [
    "cpd_map_to_model, rxn_map_to_model = fetch_metabolites_and_reactions(fbamodel)\n",
    "print(len(rxn_map_to_model), len(cpd_map_to_model))"
   ]
  },
  {
   "cell_type": "code",
   "execution_count": 249,
   "metadata": {},
   "outputs": [
    {
     "name": "stdout",
     "output_type": "stream",
     "text": [
      "error {'rxn06108', 'rxn20240'} {'rxn38178', 'rxn20240', 'rxn06108', 'rxn20247', 'rxn33889', 'rxn38176', 'rxn28008', 'rxn20254', 'rxn28005'}\n",
      "error {'cpd11420', 'cpd27735'} {'cpd11420', 'cpd27735'}\n",
      "error {'cpd28060', 'cpd11421'} {'cpd28060', 'cpd11421'}\n",
      "error {'cpd15283', 'cpd27794'} {'cpd15283', 'cpd27794'}\n",
      "error {'cpd11476', 'cpd15277'} {'cpd11476', 'cpd15277'}\n",
      "error {'cpd12458', 'cpd15268', 'cpd16828'} {'cpd12458', 'cpd15268', 'cpd16828'}\n",
      "error {'cpd19013', 'cpd00013'} {'cpd19013', 'cpd00013'}\n",
      "error {'cpd11466', 'cpd27551'} {'cpd27551', 'cpd11466'}\n",
      "error {'cpd03521', 'cpd29676'} {'cpd03521', 'cpd29676'}\n",
      "error {'cpd16855', 'cpd11482'} {'cpd16855', 'cpd11482'}\n",
      "error {'cpd28300', 'cpd11665'} {'cpd28300', 'cpd11665'}\n",
      "error {'cpd28301', 'cpd11669'} {'cpd28301', 'cpd11669'}\n"
     ]
    }
   ],
   "source": [
    "cpd_remap, rxn_remap = escher_model.map_escher_model_data(cpd_map_to_model, rxn_map_to_model)"
   ]
  },
  {
   "cell_type": "code",
   "execution_count": 192,
   "metadata": {},
   "outputs": [],
   "source": [
    "escher_map.swap_ids(cpd_remap, rxn_remap)"
   ]
  },
  {
   "cell_type": "code",
   "execution_count": 250,
   "metadata": {},
   "outputs": [],
   "source": [
    "for o in map_list:\n",
    "    map_id = o['map_name']\n",
    "    escher_map_data = read_json(ESCHER_HOME + '/maps/' + 'BIOS' + '/' + map_id + '.json')\n",
    "    escher_map = EscherMap(escher_map_data)\n",
    "    escher_map.swap_ids(cpd_remap, rxn_remap)\n",
    "    builder = build_escher_map(escher_map, model_json)\n",
    "    builder.save_html('../bin/escher/maps/' + map_id, overwrite=True)"
   ]
  },
  {
   "cell_type": "code",
   "execution_count": 194,
   "metadata": {},
   "outputs": [
    {
     "name": "stdout",
     "output_type": "stream",
     "text": [
      "IN FLUXES             OUT FLUXES          OBJECTIVES\n",
      "--------------------  ------------------  ------------------\n",
      "cpd00013_e0  100      cpd00179_e0  66     bio1_biomass  20.7\n",
      "cpd00027_e0    5      cpd11416_c0  20.7\n",
      "cpd00009_e0    4.33   cpd11791_e0   4.41\n",
      "cpd00048_e0    2.52\n",
      "cpd00067_e0    2.41\n",
      "cpd10515_e0    0.305\n",
      "cpd00030_e0    0.102\n",
      "cpd00058_e0    0.102\n",
      "cpd00099_e0    0.102\n",
      "cpd00205_e0    0.102\n",
      "cpd00254_e0    0.102\n",
      "cpd00034_e0    0.102\n",
      "cpd00063_e0    0.102\n",
      "cpd00149_e0    0.102\n",
      "cpd10516_e0    0.102\n"
     ]
    }
   ],
   "source": [
    "cobra_model.summary()"
   ]
  },
  {
   "cell_type": "code",
   "execution_count": 66,
   "metadata": {},
   "outputs": [],
   "source": [
    "#builder.display_in_notebook(enable_editing=True)"
   ]
  },
  {
   "cell_type": "code",
   "execution_count": 48,
   "metadata": {},
   "outputs": [],
   "source": [
    "mm = json.loads(model_json)"
   ]
  },
  {
   "cell_type": "code",
   "execution_count": 68,
   "metadata": {},
   "outputs": [
    {
     "name": "stdout",
     "output_type": "stream",
     "text": [
      "bio1_biomass\n"
     ]
    }
   ],
   "source": [
    "for r in mm['reactions']:\n",
    "    if 'bio' in r['id']:\n",
    "        print(r['id'])"
   ]
  },
  {
   "cell_type": "code",
   "execution_count": 74,
   "metadata": {},
   "outputs": [],
   "source": []
  },
  {
   "cell_type": "code",
   "execution_count": 73,
   "metadata": {},
   "outputs": [
    {
     "data": {
      "text/plain": [
       "{'biomass_ref': '~/fbamodel/biomasses/id/bio1',\n",
       " 'class': 'unknown',\n",
       " 'lowerBound': 0,\n",
       " 'max': 1000,\n",
       " 'min': 0,\n",
       " 'other_max': [],\n",
       " 'other_min': [],\n",
       " 'other_values': [],\n",
       " 'upperBound': 1000,\n",
       " 'value': 0.697833,\n",
       " 'variableType': 'biomassflux'}"
      ]
     },
     "execution_count": 73,
     "metadata": {},
     "output_type": "execute_result"
    }
   ],
   "source": [
    "rxn_var"
   ]
  },
  {
   "cell_type": "code",
   "execution_count": 72,
   "metadata": {},
   "outputs": [
    {
     "data": {
      "text/plain": [
       "dict_keys(['FBABiomassVariables', 'FBACompoundBounds', 'FBACompoundVariables', 'FBAConstraints', 'FBADeletionResults', 'FBAMetaboliteProductionResults', 'FBAMinimalMediaResults', 'FBAMinimalReactionsResults', 'FBAPromResults', 'FBAReactionBounds', 'FBAReactionVariables', 'FBATintleResults', 'MFALog', 'PROMKappa', 'QuantitativeOptimizationSolutions', '__VERSION__', 'additionalCpd_refs', 'allReversible', 'biomassRemovals', 'biomassflux_objterms', 'calculateReactionKnockoutSensitivity', 'comboDeletions', 'compoundflux_objterms', 'decomposeReversibleDrainFlux', 'decomposeReversibleFlux', 'defaultMaxDrainFlux', 'defaultMaxFlux', 'defaultMinDrainFlux', 'drainfluxUseVariables', 'fbamodel_ref', 'findMinimalMedia', 'fluxMinimization', 'fluxUseVariables', 'fva', 'gapfillingSolutions', 'geneKO_refs', 'id', 'inputfiles', 'maximizeActiveReactions', 'maximizeObjective', 'media_list_refs', 'media_ref', 'minimizeErrorThermodynamicConstraints', 'minimize_reaction_costs', 'minimize_reactions', 'noErrorThermodynamicConstraints', 'numberOfSolutions', 'objectiveConstraintFraction', 'objectiveValue', 'other_objectives', 'outputfiles', 'parameters', 'quantitativeOptimization', 'reactionKO_refs', 'reactionflux_objterms', 'simpleThermoConstraints', 'thermodynamicConstraints', 'uptakeLimits'])"
      ]
     },
     "execution_count": 72,
     "metadata": {},
     "output_type": "execute_result"
    }
   ],
   "source": [
    "fba.data.keys()\n",
    "\n"
   ]
  },
  {
   "cell_type": "code",
   "execution_count": 205,
   "metadata": {},
   "outputs": [],
   "source": []
  },
  {
   "cell_type": "code",
   "execution_count": 164,
   "metadata": {},
   "outputs": [],
   "source": [
    "#modelseed_local.get_seed_compound('cpd15268').data['name']"
   ]
  },
  {
   "cell_type": "code",
   "execution_count": 192,
   "metadata": {},
   "outputs": [],
   "source": []
  },
  {
   "cell_type": "code",
   "execution_count": 110,
   "metadata": {},
   "outputs": [
    {
     "data": {
      "text/plain": [
       "<cobrakbase.core.model.KBaseFBASolution at 0x132426bfd0>"
      ]
     },
     "execution_count": 110,
     "metadata": {},
     "output_type": "execute_result"
    }
   ],
   "source": []
  },
  {
   "cell_type": "code",
   "execution_count": 166,
   "metadata": {},
   "outputs": [],
   "source": []
  },
  {
   "cell_type": "code",
   "execution_count": 171,
   "metadata": {},
   "outputs": [],
   "source": [
    "\n",
    "#map_reaction"
   ]
  },
  {
   "cell_type": "code",
   "execution_count": 19,
   "metadata": {},
   "outputs": [
    {
     "name": "stdout",
     "output_type": "stream",
     "text": [
      "bios4.Porphyrin Metabolism.json  bios7.f430.json\n",
      "bios7.AA.json                    bios7.fa.json\n",
      "bios7.Central.json               bios7.mycolate.json\n",
      "bios7.LipidIV.json               bios7.peptidoglycan.json\n",
      "bios7.Nucleotides.json           bios7.proteins.json\n",
      "bios7.Quinones.json              bios7.sugars.json\n",
      "bios7.Riboflavin.json            bios7.thf.json\n",
      "bios7.Thiamine.json              proteins.json\n"
     ]
    }
   ],
   "source": [
    "ls /Users/fliu/workspace/jupyter/data/escher/maps/BIOS"
   ]
  },
  {
   "cell_type": "code",
   "execution_count": 251,
   "metadata": {},
   "outputs": [
    {
     "name": "stdout",
     "output_type": "stream",
     "text": [
      "PRODUCING REACTIONS -- L-Aspartate4-semialdehyde (cpd0034...)\n",
      "-------------------------------------------------------------\n",
      "%       FLUX  RXN ID      REACTION\n",
      "----  ------  ----------  --------------------------------------------------\n",
      "76%     3.72  rxn0130...  cpd00003_c0 + cpd00227_c0 --> cpd00004_c0 + cpd...\n",
      "24%     1.2   rxn0164...  cpd00006_c0 + cpd00009_c0 + cpd00346_c0 <=> cpd...\n",
      "\n",
      "CONSUMING REACTIONS -- L-Aspartate4-semialdehyde (cpd0034...)\n",
      "-------------------------------------------------------------\n",
      "%       FLUX  RXN ID      REACTION\n",
      "----  ------  ----------  --------------------------------------------------\n",
      "100%    4.91  rxn0164...  cpd00020_c0 + cpd00346_c0 --> 2 cpd00001_c0 + c...\n"
     ]
    }
   ],
   "source": [
    "cobra_model.metabolites.cpd00346_c0.summary()"
   ]
  },
  {
   "cell_type": "code",
   "execution_count": null,
   "metadata": {},
   "outputs": [],
   "source": []
  },
  {
   "cell_type": "code",
   "execution_count": null,
   "metadata": {},
   "outputs": [],
   "source": []
  },
  {
   "cell_type": "code",
   "execution_count": 31,
   "metadata": {},
   "outputs": [],
   "source": []
  },
  {
   "cell_type": "code",
   "execution_count": 26,
   "metadata": {},
   "outputs": [],
   "source": []
  },
  {
   "cell_type": "code",
   "execution_count": null,
   "metadata": {},
   "outputs": [],
   "source": []
  },
  {
   "cell_type": "code",
   "execution_count": 29,
   "metadata": {},
   "outputs": [
    {
     "data": {
      "text/plain": [
       "'../bin/escher/maps/bios7.Central.html'"
      ]
     },
     "execution_count": 29,
     "metadata": {},
     "output_type": "execute_result"
    }
   ],
   "source": []
  },
  {
   "cell_type": "code",
   "execution_count": null,
   "metadata": {},
   "outputs": [],
   "source": []
  },
  {
   "cell_type": "code",
   "execution_count": null,
   "metadata": {},
   "outputs": [],
   "source": []
  }
 ],
 "metadata": {
  "kernelspec": {
   "display_name": "Python 3",
   "language": "python",
   "name": "python3"
  },
  "language_info": {
   "codemirror_mode": {
    "name": "ipython",
    "version": 3
   },
   "file_extension": ".py",
   "mimetype": "text/x-python",
   "name": "python",
   "nbconvert_exporter": "python",
   "pygments_lexer": "ipython3",
   "version": "3.6.5"
  }
 },
 "nbformat": 4,
 "nbformat_minor": 2
}
